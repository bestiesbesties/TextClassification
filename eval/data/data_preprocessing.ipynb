{
 "cells": [
  {
   "cell_type": "code",
   "execution_count": null,
   "metadata": {},
   "outputs": [],
   "source": [
    "## Loading data\n",
    "import pandas as pd\n",
    "import os\n",
    "\n",
    "df = pd.read_csv(os.path.join(\"raw_data.csv\"))\n",
    "print(df.columns)"
   ]
  },
  {
   "cell_type": "code",
   "execution_count": null,
   "metadata": {},
   "outputs": [],
   "source": [
    "## Selecting columns\n",
    "df = df[[\"Resume_str\", \"Category\"]]\n",
    "df.head()"
   ]
  },
  {
   "cell_type": "code",
   "execution_count": null,
   "metadata": {},
   "outputs": [],
   "source": [
    "df[\"Category\"].value_counts()"
   ]
  },
  {
   "cell_type": "code",
   "execution_count": null,
   "metadata": {},
   "outputs": [],
   "source": [
    "## Filtering records\n",
    "sectors_to_keep = [\"INFORMATION-TECHNOLOGY\", \"HEALTHCARE\", \"CONSTRUCTION\"]\n",
    "filtered_df = df[df[\"Category\"].isin(sectors_to_keep)]\n",
    "filtered_df.head()\n"
   ]
  },
  {
   "cell_type": "code",
   "execution_count": null,
   "metadata": {},
   "outputs": [],
   "source": [
    "## Lowercasing category and analyzing category distribution\n",
    "filtered_df.loc[:, \"Category\"] = filtered_df.loc[:, \"Category\"].str.lower().str.replace(\"-\", \" \")\n",
    "category_counts = filtered_df[\"Category\"].value_counts()\n",
    "print(\"length of dataset\", len(filtered_df))\n",
    "print(category_counts)"
   ]
  },
  {
   "cell_type": "code",
   "execution_count": null,
   "metadata": {},
   "outputs": [],
   "source": [
    "## Undersampeling category distribution\n",
    "min_size = int(category_counts.min())\n",
    "sampled_filtered_df = pd.concat([\n",
    "    filtered_df[filtered_df['Category'] == category].sample(min_size, random_state=100)\n",
    "    for category in category_counts.index\n",
    "])\n",
    "\n",
    "sampled_category_counts = sampled_filtered_df['Category'].value_counts()\n",
    "print(\"length of dataset\", len(sampled_filtered_df))\n",
    "print(sampled_category_counts)"
   ]
  },
  {
   "cell_type": "code",
   "execution_count": null,
   "metadata": {},
   "outputs": [],
   "source": [
    "## Simplify 'Resume_str' structure\n",
    "\n",
    "print(sampled_filtered_df[\"Resume_str\"].iloc[0] + \"\\n\")\n",
    "\n",
    "sampled_filtered_df.loc[:, \"Resume_str\"] = ( ## .loc[<row_indexer>, <column_indexer>]\n",
    "    sampled_filtered_df[\"Resume_str\"]\n",
    "    .str.replace(r\"[^a-zA-Z\\s\\.]\", \"\", regex=True) ## Everything that is not a lowercase letter or space\n",
    "    .str.replace(r\"\\s+\", \" \", regex=True) ## Everything that is 1 or more spaces\n",
    "    .str.strip()\n",
    "    .str.lower()\n",
    "    )\n",
    "\n",
    "print(sampled_filtered_df[\"Resume_str\"].iloc[0])"
   ]
  },
  {
   "cell_type": "code",
   "execution_count": null,
   "metadata": {},
   "outputs": [],
   "source": [
    "## Neutralizing cv's by removing unwanted words (too specific or too unspecific)\n",
    "replacement_mapping = {\n",
    "    \"information technology\" : \"\",\n",
    "    \"healthcare\" : \"\",\n",
    "    \"construction\" : \"\",\n",
    "    \"summary\" : \"\",\n",
    "    \"epic\" : \"\",\n",
    "    \"good\" : \"\",\n",
    "    \"specialist\" : \"\",\n",
    "    \"professional\" : \"\"\n",
    "}\n",
    "\n",
    "def burn(text:str) -> str:\n",
    "    for old, new in replacement_mapping.items():\n",
    "        text = text.replace(old, new)\n",
    "    return text\n",
    "\n",
    "sampled_filtered_df[\"Resume_str\"] = sampled_filtered_df[\"Resume_str\"].apply(lambda x: burn(x))\n",
    "sampled_filtered_df[\"Resume_str\"] = sampled_filtered_df[\"Resume_str\"].str.replace(r\"\\s+\", \" \", regex=True).str.strip()\n",
    "\n",
    "print(sampled_filtered_df[\"Resume_str\"].iloc[0])"
   ]
  },
  {
   "cell_type": "code",
   "execution_count": null,
   "metadata": {},
   "outputs": [],
   "source": [
    "## View result of preprocessing\n",
    "sampled_filtered_df.rename(columns={\"Category\":\"Label\"}, inplace=True)\n",
    "sampled_filtered_df.reset_index(inplace=True, drop=True)\n",
    "print(\"length of dataset\", len(sampled_filtered_df))\n",
    "sampled_filtered_df.sample(20).head(20)\n"
   ]
  },
  {
   "cell_type": "code",
   "execution_count": null,
   "metadata": {},
   "outputs": [],
   "source": [
    "## Saving raw data to test_data.csv\n",
    "sampled_filtered_df.to_csv(os.path.join(\"test_data.csv\"), index=False)"
   ]
  }
 ],
 "metadata": {
  "kernelspec": {
   "display_name": "env",
   "language": "python",
   "name": "python3"
  },
  "language_info": {
   "codemirror_mode": {
    "name": "ipython",
    "version": 3
   },
   "file_extension": ".py",
   "mimetype": "text/x-python",
   "name": "python",
   "nbconvert_exporter": "python",
   "pygments_lexer": "ipython3",
   "version": "3.12.3"
  }
 },
 "nbformat": 4,
 "nbformat_minor": 2
}
