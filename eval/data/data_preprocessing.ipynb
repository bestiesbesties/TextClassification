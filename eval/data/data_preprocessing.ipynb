{
 "cells": [
  {
   "cell_type": "code",
   "execution_count": null,
   "metadata": {},
   "outputs": [],
   "source": [
    "## Loading data\n",
    "import pandas as pd\n",
    "\n",
    "file_path = \"../../model/data/raw_data.csv\"\n",
    "df = pd.read_csv(file_path)\n",
    "print(df.columns)"
   ]
  },
  {
   "cell_type": "code",
   "execution_count": null,
   "metadata": {},
   "outputs": [],
   "source": [
    "## Selecting columns\n",
    "df = df[[\"Resume_str\", \"Category\"]]\n",
    "df.head()"
   ]
  },
  {
   "cell_type": "code",
   "execution_count": null,
   "metadata": {},
   "outputs": [],
   "source": [
    "## Filtering records\n",
    "sectors_to_keep = [\"INFORMATION-TECHNOLOGY\", \"HEALTHCARE\", \"CONSTRUCTION\"]\n",
    "filtered_df = df[df[\"Category\"].isin(sectors_to_keep)]\n",
    "filtered_df.head()\n"
   ]
  },
  {
   "cell_type": "code",
   "execution_count": null,
   "metadata": {},
   "outputs": [],
   "source": [
    "## Analyzing category distribution\n",
    "category_counts = filtered_df[\"Category\"].value_counts()\n",
    "print(\"length of dataset\", len(filtered_df))\n",
    "print(category_counts)"
   ]
  },
  {
   "cell_type": "code",
   "execution_count": null,
   "metadata": {},
   "outputs": [],
   "source": [
    "## Undersampeling category distribution\n",
    "min_size = int(category_counts.min())\n",
    "sampled_filtered_df = pd.concat([\n",
    "    filtered_df[filtered_df['Category'] == category].sample(min_size, random_state=100)\n",
    "    for category in category_counts.index\n",
    "])\n",
    "\n",
    "sampled_category_counts = sampled_filtered_df['Category'].value_counts()\n",
    "print(\"length of dataset\", len(sampled_filtered_df))\n",
    "print(sampled_category_counts)"
   ]
  },
  {
   "cell_type": "code",
   "execution_count": null,
   "metadata": {},
   "outputs": [],
   "source": [
    "## Clean 'Resume_str' fields\n",
    "\n",
    "print(sampled_filtered_df[\"Resume_str\"].iloc[0])\n",
    "\n",
    "sampled_filtered_df.loc[:, \"Resume_str\"] = ( ## .loc[<row_indexer>, <column_indexer>]\n",
    "    sampled_filtered_df[\"Resume_str\"]\n",
    "    .str.replace(r\"[^a-zA-Z\\s\\.]\", \"\", regex=True) ## Everything that is not a lowercase letter or space\n",
    "    .str.replace(r\"\\s+\", \" \", regex=True) ## Everything that is 1 or more spaces\n",
    "    .str.strip()\n",
    "    .str.lower()\n",
    "    )\n",
    "\n",
    "print(sampled_filtered_df[\"Resume_str\"].iloc[0])"
   ]
  },
  {
   "cell_type": "code",
   "execution_count": 7,
   "metadata": {},
   "outputs": [],
   "source": [
    "## Saving raw data to test_data.csv\n",
    "filtered_df.to_csv(\"test_data.csv\")"
   ]
  }
 ],
 "metadata": {
  "kernelspec": {
   "display_name": "env",
   "language": "python",
   "name": "python3"
  },
  "language_info": {
   "codemirror_mode": {
    "name": "ipython",
    "version": 3
   },
   "file_extension": ".py",
   "mimetype": "text/x-python",
   "name": "python",
   "nbconvert_exporter": "python",
   "pygments_lexer": "ipython3",
   "version": "3.12.3"
  }
 },
 "nbformat": 4,
 "nbformat_minor": 2
}
