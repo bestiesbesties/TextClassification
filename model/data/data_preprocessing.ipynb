{
 "cells": [
  {
   "cell_type": "code",
   "execution_count": 1,
   "metadata": {},
   "outputs": [
    {
     "name": "stdout",
     "output_type": "stream",
     "text": [
      "Index(['ID', 'Resume_str', 'Resume_html', 'Category'], dtype='object')\n"
     ]
    }
   ],
   "source": [
    "## Loading data\n",
    "import pandas as pd\n",
    "\n",
    "file_path = \"../../model/data/raw_data.csv\"\n",
    "df = pd.read_csv(file_path)\n",
    "print(df.columns)"
   ]
  },
  {
   "cell_type": "code",
   "execution_count": 2,
   "metadata": {},
   "outputs": [
    {
     "data": {
      "text/html": [
       "<div>\n",
       "<style scoped>\n",
       "    .dataframe tbody tr th:only-of-type {\n",
       "        vertical-align: middle;\n",
       "    }\n",
       "\n",
       "    .dataframe tbody tr th {\n",
       "        vertical-align: top;\n",
       "    }\n",
       "\n",
       "    .dataframe thead th {\n",
       "        text-align: right;\n",
       "    }\n",
       "</style>\n",
       "<table border=\"1\" class=\"dataframe\">\n",
       "  <thead>\n",
       "    <tr style=\"text-align: right;\">\n",
       "      <th></th>\n",
       "      <th>Resume_str</th>\n",
       "      <th>Category</th>\n",
       "    </tr>\n",
       "  </thead>\n",
       "  <tbody>\n",
       "    <tr>\n",
       "      <th>0</th>\n",
       "      <td>HR ADMINISTRATOR/MARKETING ASSOCIATE\\...</td>\n",
       "      <td>HR</td>\n",
       "    </tr>\n",
       "    <tr>\n",
       "      <th>1</th>\n",
       "      <td>HR SPECIALIST, US HR OPERATIONS      ...</td>\n",
       "      <td>HR</td>\n",
       "    </tr>\n",
       "    <tr>\n",
       "      <th>2</th>\n",
       "      <td>HR DIRECTOR       Summary      Over 2...</td>\n",
       "      <td>HR</td>\n",
       "    </tr>\n",
       "    <tr>\n",
       "      <th>3</th>\n",
       "      <td>HR SPECIALIST       Summary    Dedica...</td>\n",
       "      <td>HR</td>\n",
       "    </tr>\n",
       "    <tr>\n",
       "      <th>4</th>\n",
       "      <td>HR MANAGER         Skill Highlights  ...</td>\n",
       "      <td>HR</td>\n",
       "    </tr>\n",
       "  </tbody>\n",
       "</table>\n",
       "</div>"
      ],
      "text/plain": [
       "                                          Resume_str Category\n",
       "0           HR ADMINISTRATOR/MARKETING ASSOCIATE\\...       HR\n",
       "1           HR SPECIALIST, US HR OPERATIONS      ...       HR\n",
       "2           HR DIRECTOR       Summary      Over 2...       HR\n",
       "3           HR SPECIALIST       Summary    Dedica...       HR\n",
       "4           HR MANAGER         Skill Highlights  ...       HR"
      ]
     },
     "execution_count": 2,
     "metadata": {},
     "output_type": "execute_result"
    }
   ],
   "source": [
    "## Selecting columns\n",
    "df = df[[\"Resume_str\", \"Category\"]]\n",
    "df.head()"
   ]
  },
  {
   "cell_type": "code",
   "execution_count": 3,
   "metadata": {},
   "outputs": [
    {
     "data": {
      "text/html": [
       "<div>\n",
       "<style scoped>\n",
       "    .dataframe tbody tr th:only-of-type {\n",
       "        vertical-align: middle;\n",
       "    }\n",
       "\n",
       "    .dataframe tbody tr th {\n",
       "        vertical-align: top;\n",
       "    }\n",
       "\n",
       "    .dataframe thead th {\n",
       "        text-align: right;\n",
       "    }\n",
       "</style>\n",
       "<table border=\"1\" class=\"dataframe\">\n",
       "  <thead>\n",
       "    <tr style=\"text-align: right;\">\n",
       "      <th></th>\n",
       "      <th>Resume_str</th>\n",
       "      <th>Category</th>\n",
       "    </tr>\n",
       "  </thead>\n",
       "  <tbody>\n",
       "    <tr>\n",
       "      <th>217</th>\n",
       "      <td>INFORMATION TECHNOLOGY         Summar...</td>\n",
       "      <td>INFORMATION-TECHNOLOGY</td>\n",
       "    </tr>\n",
       "    <tr>\n",
       "      <th>218</th>\n",
       "      <td>INFORMATION TECHNOLOGY SPECIALIST\\tGS...</td>\n",
       "      <td>INFORMATION-TECHNOLOGY</td>\n",
       "    </tr>\n",
       "    <tr>\n",
       "      <th>219</th>\n",
       "      <td>INFORMATION TECHNOLOGY SUPERVISOR    ...</td>\n",
       "      <td>INFORMATION-TECHNOLOGY</td>\n",
       "    </tr>\n",
       "    <tr>\n",
       "      <th>220</th>\n",
       "      <td>INFORMATION TECHNOLOGY INSTRUCTOR    ...</td>\n",
       "      <td>INFORMATION-TECHNOLOGY</td>\n",
       "    </tr>\n",
       "    <tr>\n",
       "      <th>221</th>\n",
       "      <td>INFORMATION TECHNOLOGY MANAGER/ANALYS...</td>\n",
       "      <td>INFORMATION-TECHNOLOGY</td>\n",
       "    </tr>\n",
       "  </tbody>\n",
       "</table>\n",
       "</div>"
      ],
      "text/plain": [
       "                                            Resume_str                Category\n",
       "217           INFORMATION TECHNOLOGY         Summar...  INFORMATION-TECHNOLOGY\n",
       "218           INFORMATION TECHNOLOGY SPECIALIST\\tGS...  INFORMATION-TECHNOLOGY\n",
       "219           INFORMATION TECHNOLOGY SUPERVISOR    ...  INFORMATION-TECHNOLOGY\n",
       "220           INFORMATION TECHNOLOGY INSTRUCTOR    ...  INFORMATION-TECHNOLOGY\n",
       "221           INFORMATION TECHNOLOGY MANAGER/ANALYS...  INFORMATION-TECHNOLOGY"
      ]
     },
     "execution_count": 3,
     "metadata": {},
     "output_type": "execute_result"
    }
   ],
   "source": [
    "## Filtering records\n",
    "sectors_to_keep = [\"INFORMATION-TECHNOLOGY\", \"HEALTHCARE\", \"CONSTRUCTION\"]\n",
    "filtered_df = df[df[\"Category\"].isin(sectors_to_keep)]\n",
    "filtered_df.head()\n"
   ]
  },
  {
   "cell_type": "code",
   "execution_count": 4,
   "metadata": {},
   "outputs": [
    {
     "name": "stdout",
     "output_type": "stream",
     "text": [
      "length of dataset 347\n",
      "Category\n",
      "INFORMATION-TECHNOLOGY    120\n",
      "HEALTHCARE                115\n",
      "CONSTRUCTION              112\n",
      "Name: count, dtype: int64\n"
     ]
    }
   ],
   "source": [
    "## Analyzing category distribution\n",
    "category_counts = filtered_df[\"Category\"].value_counts()\n",
    "print(\"length of dataset\", len(filtered_df))\n",
    "print(category_counts)"
   ]
  },
  {
   "cell_type": "code",
   "execution_count": 5,
   "metadata": {},
   "outputs": [
    {
     "name": "stdout",
     "output_type": "stream",
     "text": [
      "length of dataset 336\n",
      "Category\n",
      "INFORMATION-TECHNOLOGY    112\n",
      "HEALTHCARE                112\n",
      "CONSTRUCTION              112\n",
      "Name: count, dtype: int64\n"
     ]
    }
   ],
   "source": [
    "## Undersampeling category distribution\n",
    "min_size = int(category_counts.min())\n",
    "sampled_filtered_df = pd.concat([\n",
    "    filtered_df[filtered_df['Category'] == category].sample(min_size, random_state=100)\n",
    "    for category in category_counts.index\n",
    "])\n",
    "\n",
    "sampled_category_counts = sampled_filtered_df['Category'].value_counts()\n",
    "print(\"length of dataset\", len(sampled_filtered_df))\n",
    "print(sampled_category_counts)"
   ]
  },
  {
   "cell_type": "code",
   "execution_count": 6,
   "metadata": {},
   "outputs": [
    {
     "name": "stdout",
     "output_type": "stream",
     "text": [
      "         INFORMATION TECHNOLOGY CONSULTANT, MANAGING MEMBER           Summary    A versatile, analytic IT Specialist with a proven record of success within large institutions as well as entrepreneurial organizations. Thrives on challenge and solves problems with creativity and persistence. A data-driven team leader skilled in both producing and communicating results.      Experience      Information Technology Consultant, Managing Member    January 2017   to   Current     Company Name   －   City  ,   State       Worked with product designers and product managers to design user interactions in applications.    Envisioned inspired new products, features and flows.   Answered user inquiries regarding computer software and hardware operation.    Installed and performed repairs to hardware, software and peripheral equipment, following design and installation specifications.  Set up equipment for employee use.   Conducted computer diagnostics to investigate and resolve problems and provide technical assistance and support.            Chief Technology Officer, Partner    August 2015   to   January 2017     Company Name   －   City  ,   State      Successfully re-branded established dealership, launched new eCommerce website, added six new lines of vehicles, and created new\n",
      "          customer engagement strategies.  Developed sales and marketing strategy and directly managed over 15 full-time and part-time staff.  Streamlined processes in Sales and Service departments using new technology.  Managed legal and security policies such as loss prevention and DMV compliance.  Negotiated and secured corporate partnerships, including vehicle and trailer maintenance for FreshDirect.com's same-day product\n",
      "          (FoodKick).           CTO, Partner    May 2012   to   August 2015     Company Name   －   City  ,   State      Provided IT solutions targeting small and medium size businesses in the New York metro area.   Solutions to include: Infrastructure/ Network design and impletation, server based technologies and remote support services.  Clients included: Bronx Museum of Arts, Cava Construction, Leftfield Pictures.          IT Manager    August 2010   to   May 2012     Company Name   －   City  ,   State      Managed a staff of ten IT support staff, which provided support for all users employed within Ogilvy North American offices.  Constantly\n",
      "          developing new standards and IT policy's to improve support reaction time.  Key Accomplishment: Lead architect for migrating all Lotus\n",
      "          Notes and MS Exchange users to Cloud (Google) Mail.  Gathered and analyzed performance metric data.           Education and Training      BS   :   Print Production, Graphic Design Computer Science  ,   1993    St. John's University          Print Production, Graphic Design Computer Science        Technical Skills    Active Directory, premiere, ads, Advertising, IBM AIX, Apple, architect, Arts, catalog, color, com, Clients, digital photography, digital video, direct mail, disaster recovery, eCommerce, Final\n",
      "          Cut Pro, SGI Irix, IT support, legal, Linux, Logic, loss prevention, Lotus\n",
      "          Notes, marketing strategy, Marketing, Microsoft Exchange, MS Exchange, Mail, Network design, network, newspaper, policies, Prepress, print\n",
      "          advertising, print production, processes, Sales, upgrading, video post production, website   \n",
      "information technology consultant managing member summary a versatile analytic it specialist with a proven record of success within large institutions as well as entrepreneurial organizations. thrives on challenge and solves problems with creativity and persistence. a datadriven team leader skilled in both producing and communicating results. experience information technology consultant managing member january to current company name city state worked with product designers and product managers to design user interactions in applications. envisioned inspired new products features and flows. answered user inquiries regarding computer software and hardware operation. installed and performed repairs to hardware software and peripheral equipment following design and installation specifications. set up equipment for employee use. conducted computer diagnostics to investigate and resolve problems and provide technical assistance and support. chief technology officer partner august to january company name city state successfully rebranded established dealership launched new ecommerce website added six new lines of vehicles and created new customer engagement strategies. developed sales and marketing strategy and directly managed over fulltime and parttime staff. streamlined processes in sales and service departments using new technology. managed legal and security policies such as loss prevention and dmv compliance. negotiated and secured corporate partnerships including vehicle and trailer maintenance for freshdirect.coms sameday product foodkick. cto partner may to august company name city state provided it solutions targeting small and medium size businesses in the new york metro area. solutions to include infrastructure network design and impletation server based technologies and remote support services. clients included bronx museum of arts cava construction leftfield pictures. it manager august to may company name city state managed a staff of ten it support staff which provided support for all users employed within ogilvy north american offices. constantly developing new standards and it policys to improve support reaction time. key accomplishment lead architect for migrating all lotus notes and ms exchange users to cloud google mail. gathered and analyzed performance metric data. education and training bs print production graphic design computer science st. johns university print production graphic design computer science technical skills active directory premiere ads advertising ibm aix apple architect arts catalog color com clients digital photography digital video direct mail disaster recovery ecommerce final cut pro sgi irix it support legal linux logic loss prevention lotus notes marketing strategy marketing microsoft exchange ms exchange mail network design network newspaper policies prepress print advertising print production processes sales upgrading video post production website\n"
     ]
    }
   ],
   "source": [
    "## Clean 'Resume_str' fields\n",
    "\n",
    "print(sampled_filtered_df[\"Resume_str\"].iloc[0])\n",
    "\n",
    "sampled_filtered_df.loc[:, \"Resume_str\"] = ( ## .loc[<row_indexer>, <column_indexer>]\n",
    "    sampled_filtered_df[\"Resume_str\"]\n",
    "    .str.replace(r\"[^a-zA-Z\\s\\.]\", \"\", regex=True) ## Everything that is not a lowercase letter or space\n",
    "    .str.replace(r\"\\s+\", \" \", regex=True) ## Everything that is 1 or more spaces\n",
    "    .str.strip()\n",
    "    .str.lower()\n",
    "    )\n",
    "\n",
    "print(sampled_filtered_df[\"Resume_str\"].iloc[0])"
   ]
  },
  {
   "cell_type": "code",
   "execution_count": 7,
   "metadata": {},
   "outputs": [],
   "source": [
    "## Saving raw data to test_data.csv\n",
    "filtered_df.to_csv(\"test_data.csv\")"
   ]
  }
 ],
 "metadata": {
  "kernelspec": {
   "display_name": "env",
   "language": "python",
   "name": "python3"
  },
  "language_info": {
   "codemirror_mode": {
    "name": "ipython",
    "version": 3
   },
   "file_extension": ".py",
   "mimetype": "text/x-python",
   "name": "python",
   "nbconvert_exporter": "python",
   "pygments_lexer": "ipython3",
   "version": "3.12.3"
  }
 },
 "nbformat": 4,
 "nbformat_minor": 2
}
